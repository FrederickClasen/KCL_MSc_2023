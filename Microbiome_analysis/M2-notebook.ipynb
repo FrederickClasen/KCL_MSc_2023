{
 "cells": [
  {
   "cell_type": "markdown",
   "id": "35361b14",
   "metadata": {},
   "source": [
    "# <u>MSc Module 2 - metagenomics workshop </u>"
   ]
  },
  {
   "cell_type": "markdown",
   "id": "73dc7fef",
   "metadata": {},
   "source": [
    "The main aim of this workshop is for you to become familiar with analysing metagenomics sequencing data. Because of the requirement of high computational power this is routinely done on compute clusters. \n",
    "We will use the high performance computing environment (HPC) available at King's called CREATE.\n",
    "\n",
    "Please see this wiki : https://docs.er.kcl.ac.uk/CREATE/access/\n",
    "\n",
    "This notebook contains all the necessary steps for you to:\n",
    "1. Log into the HPC environment\n",
    "2. Setup a virtual environment using CONDA that contains Metaphlan\n",
    "3. Run a single sample and inspect the output\n",
    "4. Submit a script to the cluster to run the entire dataset\n",
    "5. Start the downstream analysis\n",
    "\n",
    "##### The commands/scripts you will need will appear as below"
   ]
  },
  {
   "cell_type": "raw",
   "id": "d28b55c2",
   "metadata": {},
   "source": [
    "these are commands that you should run"
   ]
  },
  {
   "cell_type": "markdown",
   "id": "25304fce",
   "metadata": {},
   "source": [
    "and the rest of the text is to guide you through the workshop\n",
    "\n",
    "We will break it down into tasks according to the steps above. \n",
    "\n",
    "##### Please ensure that you follow throughout and we will ONLY continue once everyone has finished each step."
   ]
  },
  {
   "cell_type": "markdown",
   "id": "3d9b0ccf",
   "metadata": {},
   "source": [
    "### <u> Task 1 : logging into the HPC </u>"
   ]
  },
  {
   "cell_type": "markdown",
   "id": "6f045366",
   "metadata": {},
   "source": [
    "<u>Step1</u> : open terminal \n",
    "\n",
    "* Mac: if you are using a MacBook (or other Linux distribution) you will find terminal in LaunchPad\n",
    "* Windows: use MobaXterm downloaded previously\n",
    "\n",
    "<u>Step2</u> : ssh (replace k1234567 with your k-number)"
   ]
  },
  {
   "cell_type": "raw",
   "id": "c9dc1098",
   "metadata": {},
   "source": [
    "ssh k1234567@hpc.create.kcl.ac.uk"
   ]
  },
  {
   "cell_type": "markdown",
   "id": "83d07cbe",
   "metadata": {},
   "source": [
    "Once you are logged in, you are on what is called a login node. Login nodes are used to edit scripts and run small tasks that do not require allot of CPU. To run bigger jobs (the reason we use an HPC) you need to be on a larger node - usually termed a compute node. There are different ways to do this and we will do this in the next steps."
   ]
  },
  {
   "cell_type": "markdown",
   "id": "1a5bdcf6",
   "metadata": {},
   "source": [
    "<u>Step3</u> : move to project shared space and view the directory structure"
   ]
  },
  {
   "cell_type": "raw",
   "id": "79516cc9",
   "metadata": {},
   "source": [
    "mv /scratch/prj/docs_microbiome_msc/\n",
    "ls"
   ]
  },
  {
   "cell_type": "markdown",
   "id": "5522fbb8",
   "metadata": {},
   "source": [
    "here you will see several directories for all workshop participants with k-numbers as well as a directory called <b>shared</b> that houses the data that you will need to run metaphlan"
   ]
  },
  {
   "cell_type": "markdown",
   "id": "9eda26c8",
   "metadata": {},
   "source": [
    "### <u> Task 2 : setup a virtual environment </u>\n"
   ]
  },
  {
   "cell_type": "markdown",
   "id": "17c679c2",
   "metadata": {},
   "source": [
    "A big advantage of using an HPC is that it usually comes with several modules (or software packages) already installed \n",
    "\n",
    "To view all modules you can run the command"
   ]
  },
  {
   "cell_type": "raw",
   "id": "054a4cb2",
   "metadata": {},
   "source": [
    "module spider"
   ]
  },
  {
   "cell_type": "markdown",
   "id": "d7330dc6",
   "metadata": {},
   "source": [
    "to load anaconda to your current session run the command below"
   ]
  },
  {
   "cell_type": "raw",
   "id": "abcc426d",
   "metadata": {},
   "source": [
    "module load anaconda3"
   ]
  },
  {
   "cell_type": "markdown",
   "id": "ae8a81c6",
   "metadata": {},
   "source": [
    "** remember that you will have to load any module again if you log out and back in to the cluster"
   ]
  },
  {
   "cell_type": "markdown",
   "id": "c2dbbd30",
   "metadata": {},
   "source": [
    "create a conda environment with the name <u>msc</u> (you can name it anything, but remember the name) and install metaphlan in this environment with the same command"
   ]
  },
  {
   "cell_type": "raw",
   "id": "7c34ea4d",
   "metadata": {},
   "source": [
    "conda create --name msc -c conda-forge -c bioconda metaphlan"
   ]
  },
  {
   "cell_type": "markdown",
   "id": "11437b2b",
   "metadata": {},
   "source": [
    "If asked to proceed type <i>y</i> and hit enter\n",
    "\n",
    "The necessary packages will then be installed in the environment.\n",
    "\n",
    "To enter the environment:"
   ]
  },
  {
   "cell_type": "raw",
   "id": "be66b3d2",
   "metadata": {},
   "source": [
    "conda activate msc"
   ]
  },
  {
   "cell_type": "markdown",
   "id": "35ad1297",
   "metadata": {},
   "source": [
    "### <u> Task 3 : Run a single sample </u>\n"
   ]
  },
  {
   "cell_type": "markdown",
   "id": "0427bda6",
   "metadata": {},
   "source": [
    "Create directories (folders) where the input and output of the pipeline will be stored"
   ]
  },
  {
   "cell_type": "raw",
   "id": "ec14c11a",
   "metadata": {},
   "source": [
    "mkdir input output"
   ]
  },
  {
   "cell_type": "markdown",
   "id": "1bda2698",
   "metadata": {},
   "source": [
    "move into the input directory"
   ]
  },
  {
   "cell_type": "raw",
   "id": "2c174d4d",
   "metadata": {},
   "source": [
    "cd input"
   ]
  },
  {
   "cell_type": "markdown",
   "id": "6ebf74ef",
   "metadata": {},
   "source": [
    "create symbolic links for all raw data files to this (input) directory"
   ]
  },
  {
   "cell_type": "raw",
   "id": "206bdf4a",
   "metadata": {},
   "source": [
    "ln -s /scratch/prj/chmi/sysbiolab/data/liver_disease/chinese_cohort/*.gz ."
   ]
  },
  {
   "cell_type": "markdown",
   "id": "1f8616a6",
   "metadata": {},
   "source": [
    "even a single metaphlan run requires significant cpu, therefore this should be done either by changing to a compute node, or by submitting a bash script to the scheduler. We will do both these to show the difference.\n",
    "\n",
    "First, login to a compute node using this command"
   ]
  },
  {
   "cell_type": "raw",
   "id": "15950769",
   "metadata": {},
   "source": [
    "srun -p cpu --pty /bin/bash"
   ]
  },
  {
   "cell_type": "markdown",
   "id": "38ad3cdd",
   "metadata": {},
   "source": [
    "run the following command to run a single sample. PLEASE WAIT so that we do this together to ensure that you do this correctly"
   ]
  },
  {
   "cell_type": "raw",
   "id": "32495e2b",
   "metadata": {},
   "source": [
    "metaphlan input/SRR5275394_1.fastq.gz,input/SRR5275394_2.fastq.gz \n",
    "--bowtie2out metagenome.bowtie2.bz2 \n",
    "--input_type fastq \n",
    "-o profiled_metagenome.txt \n",
    "--bowtie2db /scratch/users/k2259885/MSc2023/data/ \n",
    "--nproc 10"
   ]
  },
  {
   "cell_type": "markdown",
   "id": "a8dfff46",
   "metadata": {},
   "source": [
    "Once this is completed you can view the output using this command"
   ]
  },
  {
   "cell_type": "raw",
   "id": "65b310bb",
   "metadata": {},
   "source": [
    "less profiled_metagenome.txt"
   ]
  },
  {
   "cell_type": "code",
   "execution_count": null,
   "id": "1f0227aa",
   "metadata": {},
   "outputs": [],
   "source": []
  },
  {
   "cell_type": "code",
   "execution_count": 2,
   "id": "d3f6fd38",
   "metadata": {},
   "outputs": [],
   "source": [
    "import pandas as pd\n",
    "from collections import Counter,defaultdict"
   ]
  },
  {
   "cell_type": "code",
   "execution_count": 10,
   "id": "41856a27",
   "metadata": {},
   "outputs": [],
   "source": [
    "df = pd.read_csv('M2/Metagenomics analysis/merged.tsv',sep='\\t',index_col=0)\n",
    "df.columns = df.columns.str.rstrip('d')\n",
    "sample_map = pd.read_csv('M2/Metagenomics analysis/chinese_sample_map.txt',sep='\\t')\n",
    "meta = pd.read_csv('M2/Metagenomics analysis/chinese_metadata.csv',sep=',')\n",
    "\n",
    "df = df.rename(columns=dict(zip(sample_map['run_accession'],sample_map['sample_alias'])))\n",
    "\n",
    "select = []\n",
    "for col in df.columns:\n",
    "    if 'HD' in col or 'LD' in col:\n",
    "        select.append(col)\n",
    "        \n",
    "df = df[select]\n",
    "\n",
    "select = defaultdict(list)\n",
    "for col in df.columns:\n",
    "    select[col.split('_')[0]].append(col)\n",
    "    \n",
    "select2 = []\n",
    "for i in select:\n",
    "    select2.append(select[i][0])\n",
    "df = df[select2]\n",
    "\n",
    "df.columns = df.columns.str.split('_').str[0]\n",
    "#df.to_csv('M2/Metagenomics analysis/merged_parsed.tsv')"
   ]
  },
  {
   "cell_type": "code",
   "execution_count": 27,
   "id": "2adcfaf2",
   "metadata": {},
   "outputs": [],
   "source": [
    "df2 = df.copy()\n",
    "df2.index = df2.index.str.split('|').str[-1]\n",
    "\n",
    "#kingdom\n",
    "df3 = df2.loc[df2.index.str.contains('k__')]\n",
    "df3.index = df3.index.str.replace('k__','')\n",
    "df3.to_csv('M2/Metagenomics analysis/kingdom_abd.csv')\n",
    "\n",
    "df2 = df.copy()\n",
    "df2 = df2.loc[df2.index.str.contains('k__Bacteria')]\n",
    "df2.index = df2.index.str.split('|').str[-1]\n",
    "\n",
    "#phylum\n",
    "df3 = df2.loc[df2.index.str.contains('p__')]\n",
    "df3.index = df3.index.str.replace('p__','')\n",
    "df3.to_csv('M2/Metagenomics analysis/phylum_abd.csv')\n",
    "\n",
    "#order\n",
    "df3 = df2.loc[df2.index.str.contains('o__')]\n",
    "df3.index = df3.index.str.replace('o__','')\n",
    "df3.to_csv('M2/Metagenomics analysis/order_abd.csv')\n",
    "\n",
    "#class\n",
    "df3 = df2.loc[df2.index.str.contains('c__')]\n",
    "df3.index = df3.index.str.replace('c__','')\n",
    "df3.to_csv('M2/Metagenomics analysis/class_abd.csv')\n",
    "\n",
    "#family\n",
    "df3 = df2.loc[df2.index.str.contains('f__')]\n",
    "df3.index = df3.index.str.replace('f__','')\n",
    "df3.to_csv('M2/Metagenomics analysis/family_abd.csv')\n",
    "\n",
    "#genus\n",
    "df3 = df2.loc[df2.index.str.contains('g__')]\n",
    "df3.index = df3.index.str.replace('g__','')\n",
    "df3.to_csv('M2/Metagenomics analysis/genus_abd.csv')\n",
    "\n",
    "#species\n",
    "df3 = df2.loc[df2.index.str.contains('s__')]\n",
    "df3.index = df3.index.str.replace('s__','')\n",
    "df3.to_csv('M2/Metagenomics analysis/species_abd.csv')"
   ]
  },
  {
   "cell_type": "code",
   "execution_count": 14,
   "id": "5f53745e",
   "metadata": {},
   "outputs": [
    {
     "data": {
      "text/plain": [
       "{'c', 'f', 'g', 'k', 'o', 'p', 's', 't'}"
      ]
     },
     "execution_count": 14,
     "metadata": {},
     "output_type": "execute_result"
    }
   ],
   "source": [
    "l = []\n",
    "for i in df2.index:\n",
    "    i = i.split('__')[0]\n",
    "    l.append(i)\n",
    "set(l)"
   ]
  },
  {
   "cell_type": "code",
   "execution_count": 9,
   "id": "ae587b25",
   "metadata": {},
   "outputs": [],
   "source": [
    "meta = pd.read_csv('M2/Metagenomics analysis/chinese_metadata.csv',sep=',')\n",
    "meta = meta[meta['Sample ID'].isin(df.columns)]\n",
    "meta.to_csv('M2/Metagenomics analysis/metadata_parsed.csv')"
   ]
  },
  {
   "cell_type": "code",
   "execution_count": 17,
   "id": "47a3a6b9",
   "metadata": {},
   "outputs": [
    {
     "data": {
      "text/html": [
       "<div>\n",
       "<style scoped>\n",
       "    .dataframe tbody tr th:only-of-type {\n",
       "        vertical-align: middle;\n",
       "    }\n",
       "\n",
       "    .dataframe tbody tr th {\n",
       "        vertical-align: top;\n",
       "    }\n",
       "\n",
       "    .dataframe thead th {\n",
       "        text-align: right;\n",
       "    }\n",
       "</style>\n",
       "<table border=\"1\" class=\"dataframe\">\n",
       "  <thead>\n",
       "    <tr style=\"text-align: right;\">\n",
       "      <th></th>\n",
       "      <th>run_accession</th>\n",
       "      <th>sample_accession</th>\n",
       "      <th>experiment_accession</th>\n",
       "      <th>study_accession</th>\n",
       "      <th>tax_id</th>\n",
       "      <th>scientific_name</th>\n",
       "      <th>fastq_ftp</th>\n",
       "      <th>submitted_ftp</th>\n",
       "      <th>sra_ftp</th>\n",
       "      <th>sample_alias</th>\n",
       "    </tr>\n",
       "  </thead>\n",
       "  <tbody>\n",
       "    <tr>\n",
       "      <th>0</th>\n",
       "      <td>ERR527006</td>\n",
       "      <td>SAMEA2581978</td>\n",
       "      <td>ERX492209</td>\n",
       "      <td>PRJEB6337</td>\n",
       "      <td>256318</td>\n",
       "      <td>metagenome</td>\n",
       "      <td>ftp.sra.ebi.ac.uk/vol1/fastq/ERR527/ERR527006/...</td>\n",
       "      <td>ftp.sra.ebi.ac.uk/vol1/run/ERR527/ERR527006/HV...</td>\n",
       "      <td>ftp.sra.ebi.ac.uk/vol1/err/ERR527/ERR527006</td>\n",
       "      <td>HV1_Run4</td>\n",
       "    </tr>\n",
       "  </tbody>\n",
       "</table>\n",
       "</div>"
      ],
      "text/plain": [
       "  run_accession sample_accession experiment_accession study_accession  tax_id  \\\n",
       "0     ERR527006     SAMEA2581978            ERX492209       PRJEB6337  256318   \n",
       "\n",
       "  scientific_name                                          fastq_ftp  \\\n",
       "0      metagenome  ftp.sra.ebi.ac.uk/vol1/fastq/ERR527/ERR527006/...   \n",
       "\n",
       "                                       submitted_ftp  \\\n",
       "0  ftp.sra.ebi.ac.uk/vol1/run/ERR527/ERR527006/HV...   \n",
       "\n",
       "                                       sra_ftp sample_alias  \n",
       "0  ftp.sra.ebi.ac.uk/vol1/err/ERR527/ERR527006     HV1_Run4  "
      ]
     },
     "execution_count": 17,
     "metadata": {},
     "output_type": "execute_result"
    }
   ],
   "source": [
    "sample_map = pd.read_csv('M2/Metagenomics analysis/chinese_sample_map.txt',sep='\\t')\n",
    "sample_map.head(1)"
   ]
  },
  {
   "cell_type": "code",
   "execution_count": null,
   "id": "7959203b",
   "metadata": {},
   "outputs": [],
   "source": []
  },
  {
   "cell_type": "code",
   "execution_count": null,
   "id": "6de44487",
   "metadata": {},
   "outputs": [],
   "source": []
  },
  {
   "cell_type": "code",
   "execution_count": null,
   "id": "4226bf0a",
   "metadata": {},
   "outputs": [],
   "source": []
  },
  {
   "cell_type": "code",
   "execution_count": null,
   "id": "476b3290",
   "metadata": {},
   "outputs": [],
   "source": []
  },
  {
   "cell_type": "code",
   "execution_count": null,
   "id": "d93b22fb",
   "metadata": {},
   "outputs": [],
   "source": []
  },
  {
   "cell_type": "code",
   "execution_count": null,
   "id": "090c555c",
   "metadata": {},
   "outputs": [],
   "source": []
  },
  {
   "cell_type": "code",
   "execution_count": null,
   "id": "f76d9c00",
   "metadata": {},
   "outputs": [],
   "source": []
  },
  {
   "cell_type": "code",
   "execution_count": null,
   "id": "99cc5c2c",
   "metadata": {},
   "outputs": [],
   "source": []
  },
  {
   "cell_type": "code",
   "execution_count": null,
   "id": "dbb623f5",
   "metadata": {},
   "outputs": [],
   "source": []
  },
  {
   "cell_type": "code",
   "execution_count": null,
   "id": "8d56de72",
   "metadata": {},
   "outputs": [],
   "source": []
  }
 ],
 "metadata": {
  "kernelspec": {
   "display_name": "Python 3 (ipykernel)",
   "language": "python",
   "name": "python3"
  },
  "language_info": {
   "codemirror_mode": {
    "name": "ipython",
    "version": 3
   },
   "file_extension": ".py",
   "mimetype": "text/x-python",
   "name": "python",
   "nbconvert_exporter": "python",
   "pygments_lexer": "ipython3",
   "version": "3.10.9"
  }
 },
 "nbformat": 4,
 "nbformat_minor": 5
}
