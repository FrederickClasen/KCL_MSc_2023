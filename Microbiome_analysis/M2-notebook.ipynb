{
 "cells": [
  {
   "cell_type": "markdown",
   "id": "35361b14",
   "metadata": {},
   "source": [
    "# <u>MSc Module 2 - metagenomics workshop </u>"
   ]
  },
  {
   "cell_type": "markdown",
   "id": "73dc7fef",
   "metadata": {},
   "source": [
    "The main aim of this workshop is for you to become familiar with analysing metagenomics sequencing data. Because of the requirement of high computational power this is routinely done on compute clusters. \n",
    "We will use the high performance computing environment (HPC) available at King's called CREATE.\n",
    "\n",
    "Please see this wiki : https://docs.er.kcl.ac.uk/CREATE/access/\n",
    "\n",
    "This notebook contains all the necessary steps for you to:\n",
    "1. Log into the HPC environment\n",
    "2. Setup a virtual environment using CONDA that contains Metaphlan\n",
    "3. Run a single sample and inspect the output\n",
    "4. Submit a script to the cluster to run the entire dataset\n",
    "5. Start the downstream analysis\n",
    "\n",
    "##### The commands/scripts you will need will appear as below"
   ]
  },
  {
   "cell_type": "code",
   "execution_count": null,
   "id": "4f1b34be",
   "metadata": {},
   "outputs": [],
   "source": [
    "these are commands that you should run"
   ]
  },
  {
   "cell_type": "markdown",
   "id": "25304fce",
   "metadata": {},
   "source": [
    "and the rest of the text is to guide you through the workshop\n",
    "\n",
    "We will break it down into tasks according to the steps above. \n",
    "\n",
    "##### Please ensure that you follow throughout and we will ONLY continue once everyone has finished each step."
   ]
  },
  {
   "cell_type": "markdown",
   "id": "3d9b0ccf",
   "metadata": {},
   "source": [
    "### <u> Task 1 : logging into the HPC </u>"
   ]
  },
  {
   "cell_type": "markdown",
   "id": "5d96b47d",
   "metadata": {},
   "source": [
    "<u>Step1</u> : open terminal \n",
    "\n",
    "* Mac: if you are using a MacBook (or other Linux distribution) you will find terminal in LaunchPad\n",
    "* Windows: use MobaXterm downloaded previously\n",
    "\n",
    "<u>Step2</u> : ssh (replace k1234567 with your k-number)"
   ]
  },
  {
   "cell_type": "code",
   "execution_count": null,
   "id": "79aaa935",
   "metadata": {},
   "outputs": [],
   "source": [
    "ssh k1234567@hpc.create.kcl.ac.uk"
   ]
  },
  {
   "cell_type": "markdown",
   "id": "83d07cbe",
   "metadata": {},
   "source": [
    "Once you are logged in, you are on what is called a login node. Login nodes are used to edit scripts and run small tasks that do not require allot of CPU. To run bigger jobs (the reason we use an HPC) you need to be on a larger node - usually termed a compute node. There are different ways to do this and we will do this in the next steps."
   ]
  },
  {
   "cell_type": "markdown",
   "id": "1a5bdcf6",
   "metadata": {},
   "source": [
    "<u>Step3</u> : move to project shared space and view the directory structure. Then move into your dedicated space"
   ]
  },
  {
   "cell_type": "code",
   "execution_count": null,
   "id": "9da4cd21",
   "metadata": {},
   "outputs": [],
   "source": [
    "cd /scratch/prj/docs_microbiome_msc/\n",
    "ls\n",
    "cd k1234567"
   ]
  },
  {
   "cell_type": "markdown",
   "id": "5522fbb8",
   "metadata": {},
   "source": [
    "here you will see several directories for all workshop participants with k-numbers as well as a directory called <b>shared</b> that houses the data that you will need to run metaphlan"
   ]
  },
  {
   "cell_type": "markdown",
   "id": "9eda26c8",
   "metadata": {},
   "source": [
    "### <u> Task 2 : setup a virtual environment for metaphlan </u>\n",
    "\n",
    "https://github.com/biobakery/MetaPhlAn\n",
    "\n",
    "https://github.com/biobakery/MetaPhlAn/wiki/MetaPhlAn-4#installation\n"
   ]
  },
  {
   "cell_type": "markdown",
   "id": "17c679c2",
   "metadata": {},
   "source": [
    "A big advantage of using an HPC is that it usually comes with several modules (or software packages) already installed \n",
    "\n",
    "To view all modules you can run the command"
   ]
  },
  {
   "cell_type": "code",
   "execution_count": null,
   "id": "8048aeb7",
   "metadata": {},
   "outputs": [],
   "source": [
    "module spider"
   ]
  },
  {
   "cell_type": "markdown",
   "id": "d7330dc6",
   "metadata": {},
   "source": [
    "to load anaconda to your current session run the command below"
   ]
  },
  {
   "cell_type": "code",
   "execution_count": null,
   "id": "8d1635d3",
   "metadata": {},
   "outputs": [],
   "source": [
    "module load anaconda3"
   ]
  },
  {
   "cell_type": "markdown",
   "id": "ae8a81c6",
   "metadata": {},
   "source": [
    "** remember that you will have to load any module again if you log out and back in to the cluster. Set the default shell of conda to bash - you only have to do this once. After you done this log out and back in to the cluster"
   ]
  },
  {
   "cell_type": "code",
   "execution_count": null,
   "id": "b6d97268",
   "metadata": {},
   "outputs": [],
   "source": [
    "conda init bash"
   ]
  },
  {
   "cell_type": "markdown",
   "id": "c2dbbd30",
   "metadata": {},
   "source": [
    "create a conda environment with the name <u>msc</u> (you can name it anything, but remember the name)"
   ]
  },
  {
   "cell_type": "code",
   "execution_count": null,
   "id": "f23f6679",
   "metadata": {},
   "outputs": [],
   "source": [
    "conda create --name msc"
   ]
  },
  {
   "cell_type": "markdown",
   "id": "11437b2b",
   "metadata": {},
   "source": [
    "If asked to proceed type <i>y</i> and hit enter\n",
    "\n",
    "The necessary packages will then be installed in the environment.\n",
    "\n",
    "To enter the environment:"
   ]
  },
  {
   "cell_type": "code",
   "execution_count": null,
   "id": "540256b8",
   "metadata": {},
   "outputs": [],
   "source": [
    "conda activate msc"
   ]
  },
  {
   "cell_type": "markdown",
   "id": "ddee0641",
   "metadata": {},
   "source": [
    "install metaphlan in this environment using pip"
   ]
  },
  {
   "cell_type": "code",
   "execution_count": null,
   "id": "67463154",
   "metadata": {},
   "outputs": [],
   "source": [
    "pip install metaphlan"
   ]
  },
  {
   "cell_type": "markdown",
   "id": "35ad1297",
   "metadata": {},
   "source": [
    "### <u> Task 3 : Run a single sample </u>\n"
   ]
  },
  {
   "cell_type": "markdown",
   "id": "1f18cf75",
   "metadata": {},
   "source": [
    "### Run this in an interactive node"
   ]
  },
  {
   "cell_type": "markdown",
   "id": "0427bda6",
   "metadata": {},
   "source": [
    "Create directories (folders) where the input and output of the pipeline will be stored"
   ]
  },
  {
   "cell_type": "code",
   "execution_count": null,
   "id": "35c5ab67",
   "metadata": {},
   "outputs": [],
   "source": [
    "mkdir input output"
   ]
  },
  {
   "cell_type": "markdown",
   "id": "1bda2698",
   "metadata": {},
   "source": [
    "move into the input directory"
   ]
  },
  {
   "cell_type": "code",
   "execution_count": null,
   "id": "3b738508",
   "metadata": {},
   "outputs": [],
   "source": [
    "cd input"
   ]
  },
  {
   "cell_type": "markdown",
   "id": "6ebf74ef",
   "metadata": {},
   "source": [
    "create symbolic links for all raw data files to this (input) directory"
   ]
  },
  {
   "cell_type": "code",
   "execution_count": null,
   "id": "d8f70d31",
   "metadata": {},
   "outputs": [],
   "source": [
    "ln -s /scratch/prj/docs_microbiome_msc/shared/data/*.gz ."
   ]
  },
  {
   "cell_type": "markdown",
   "id": "1f8616a6",
   "metadata": {},
   "source": [
    "even a single metaphlan run requires significant cpu, therefore this should be done either by changing to a compute node, or by submitting a bash script to the scheduler. We will do both these to show the difference.\n",
    "\n",
    "First, login to a compute node using this command"
   ]
  },
  {
   "cell_type": "code",
   "execution_count": null,
   "id": "1a91108e",
   "metadata": {},
   "outputs": [],
   "source": [
    "srun -p cpu --pty /bin/bash"
   ]
  },
  {
   "cell_type": "markdown",
   "id": "38ad3cdd",
   "metadata": {},
   "source": [
    "run the following command to run a single sample. PLEASE WAIT so that we do this together to ensure that you do this correctly"
   ]
  },
  {
   "cell_type": "code",
   "execution_count": null,
   "id": "d4ce664d",
   "metadata": {},
   "outputs": [],
   "source": [
    "metaphlan input/ERR526291_1.fastq.gz,input/ERR526291_2.fastq.gz \n",
    "--bowtie2out output/metagenome.bowtie2.bz2 \n",
    "--input_type fastq \n",
    "-o output/profiled_metagenome.txt \n",
    "--bowtie2db /scratch/prj/docs_microbiome_msc/shared/metaphlan_db/"
   ]
  },
  {
   "cell_type": "markdown",
   "id": "a8dfff46",
   "metadata": {},
   "source": [
    "It will take some time to run so cancel the job using CONTROL+C"
   ]
  },
  {
   "cell_type": "markdown",
   "id": "3c044752",
   "metadata": {},
   "source": [
    "### Submit a job to the SLURM queue"
   ]
  },
  {
   "cell_type": "markdown",
   "id": "1ea96316",
   "metadata": {},
   "source": [
    "navigate yourself back to /scratch/prj/docs_microbiome_msc/k1234567"
   ]
  },
  {
   "cell_type": "markdown",
   "id": "a3bbcd4a",
   "metadata": {},
   "source": [
    "create a file called submit.sh and open this file with either vim or nano"
   ]
  },
  {
   "cell_type": "markdown",
   "id": "9bece55b",
   "metadata": {},
   "source": [
    "fill the file with the following lines of code"
   ]
  },
  {
   "cell_type": "code",
   "execution_count": null,
   "id": "427e7580",
   "metadata": {},
   "outputs": [],
   "source": [
    "#!/bin/bash -l\n",
    "#SBATCH --job-name=test_metaphlan\n",
    "#SBATCH --ntasks=10\n",
    "\n",
    "module load anaconda3\n",
    "source activate msc\n",
    "\n",
    "metaphlan input/ERR526291_1.fastq.gz,input/ERR526291_2.fastq.gz --bowtie2out output/metagenome.bowtie2.bz2 --input_type fastq -o output/profiled_metagenome.txt --bowtie2db /scratch/prj/docs_microbiome_msc/shared/metaphlan_db/"
   ]
  },
  {
   "cell_type": "markdown",
   "id": "7a5739e4",
   "metadata": {},
   "source": [
    "submit the job with the following command"
   ]
  },
  {
   "cell_type": "code",
   "execution_count": null,
   "id": "9c5c6875",
   "metadata": {},
   "outputs": [],
   "source": [
    "sbatch submit.sh"
   ]
  },
  {
   "cell_type": "markdown",
   "id": "849b045b",
   "metadata": {},
   "source": [
    "view the job with the following command"
   ]
  },
  {
   "cell_type": "code",
   "execution_count": null,
   "id": "f2100a74",
   "metadata": {},
   "outputs": [],
   "source": [
    "squeue -u k1234567"
   ]
  },
  {
   "cell_type": "markdown",
   "id": "aa7e549a",
   "metadata": {},
   "source": [
    "### <u> Task 4 : Run multiple samples </u>\n"
   ]
  },
  {
   "cell_type": "markdown",
   "id": "4316e1ef",
   "metadata": {},
   "source": [
    "Create a sample list file"
   ]
  },
  {
   "cell_type": "code",
   "execution_count": null,
   "id": "c73c8bc7",
   "metadata": {},
   "outputs": [],
   "source": [
    "ls input/ | awk -F'_' '{print $1}' | sort -u > sample_list.txt"
   ]
  },
  {
   "cell_type": "markdown",
   "id": "825b6f1d",
   "metadata": {},
   "source": [
    "Create a file named submit_all.sh and populate it with the code below"
   ]
  },
  {
   "cell_type": "code",
   "execution_count": null,
   "id": "3c814274",
   "metadata": {},
   "outputs": [],
   "source": [
    "#!/bin/bash -l\n",
    "#SBATCH --job-name=test_metaphlan_multiple\n",
    "#SBATCH --ntasks=10\n",
    "\n",
    "module load anaconda3\n",
    "source activate msc\n",
    "\n",
    "input=\"sample_list.txt\"\n",
    "\n",
    "while read -r line\n",
    "do\n",
    "  metaphlan input/$line\"_1.fastq.gz\",input/$line\"_2.fastq.gz\" --input_type fastq --bowtie2out output/$line\"_bowtie2.bz2\" -o output/$line\"_profiled.tsv\" --bowtie2db /scratch/prj/docs_microbiome_msc/shared/metaphlan_db/\n",
    "done < \"$input\""
   ]
  },
  {
   "cell_type": "markdown",
   "id": "92097adf",
   "metadata": {},
   "source": [
    "You can submit this with sbatch submit_all.sh --> but please do not do this to spare the cluster"
   ]
  },
  {
   "cell_type": "code",
   "execution_count": null,
   "id": "c28d797e",
   "metadata": {},
   "outputs": [],
   "source": []
  },
  {
   "cell_type": "code",
   "execution_count": null,
   "id": "97a31dba",
   "metadata": {},
   "outputs": [],
   "source": []
  },
  {
   "cell_type": "code",
   "execution_count": null,
   "id": "6ab7cb1b",
   "metadata": {},
   "outputs": [],
   "source": []
  },
  {
   "cell_type": "code",
   "execution_count": null,
   "id": "43e9c697",
   "metadata": {},
   "outputs": [],
   "source": []
  },
  {
   "cell_type": "code",
   "execution_count": null,
   "id": "83f5c573",
   "metadata": {},
   "outputs": [],
   "source": []
  }
 ],
 "metadata": {
  "kernelspec": {
   "display_name": "Python 3 (ipykernel)",
   "language": "python",
   "name": "python3"
  },
  "language_info": {
   "codemirror_mode": {
    "name": "ipython",
    "version": 3
   },
   "file_extension": ".py",
   "mimetype": "text/x-python",
   "name": "python",
   "nbconvert_exporter": "python",
   "pygments_lexer": "ipython3",
   "version": "3.10.9"
  }
 },
 "nbformat": 4,
 "nbformat_minor": 5
}
