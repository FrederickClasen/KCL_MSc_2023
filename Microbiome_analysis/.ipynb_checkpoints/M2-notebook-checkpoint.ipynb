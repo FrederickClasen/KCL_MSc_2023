{
 "cells": [
  {
   "cell_type": "markdown",
   "id": "35361b14",
   "metadata": {},
   "source": [
    "# <u>MSc Module 2 - metagenomics workshop </u>"
   ]
  },
  {
   "cell_type": "markdown",
   "id": "73dc7fef",
   "metadata": {},
   "source": [
    "The main aim of this workshop is for you to become familiar with analysing metagenomics sequencing data. Because of the requirement of high computational power this is routinely done on compute clusters. \n",
    "We will use the high performance computing environment (HPC) available at King's called CREATE.\n",
    "\n",
    "Please see this wiki : https://docs.er.kcl.ac.uk/CREATE/access/\n",
    "\n",
    "This notebook contains all the necessary steps for you to:\n",
    "1. Log into the HPC environment\n",
    "2. Setup a virtual environment using CONDA that contains Metaphlan\n",
    "3. Run a single sample and inspect the output\n",
    "4. Submit a script to the cluster to run the entire dataset\n",
    "5. Start the downstream analysis\n",
    "\n",
    "##### The commands/scripts you will need will appear as below"
   ]
  },
  {
   "cell_type": "code",
   "execution_count": null,
   "id": "e129ade7",
   "metadata": {},
   "outputs": [],
   "source": [
    "these are commands that you should run"
   ]
  },
  {
   "cell_type": "markdown",
   "id": "25304fce",
   "metadata": {},
   "source": [
    "and the rest of the text is to guide you through the workshop\n",
    "\n",
    "We will break it down into tasks according to the steps above. \n",
    "\n",
    "##### Please ensure that you follow throughout and we will ONLY continue once everyone has finished each step."
   ]
  },
  {
   "cell_type": "markdown",
   "id": "3d9b0ccf",
   "metadata": {},
   "source": [
    "### <u> Task 1 : logging into the HPC </u>"
   ]
  },
  {
   "cell_type": "markdown",
   "id": "bc853877",
   "metadata": {},
   "source": [
    "<u>Step1</u> : open terminal \n",
    "\n",
    "* Mac: if you are using a MacBook (or other Linux distribution) you will find terminal in LaunchPad\n",
    "* Windows: use MobaXterm downloaded previously\n",
    "\n",
    "<u>Step2</u> : ssh (replace k1234567 with your k-number)"
   ]
  },
  {
   "cell_type": "code",
   "execution_count": null,
   "id": "9179557c",
   "metadata": {},
   "outputs": [],
   "source": [
    "ssh k1234567@hpc.create.kcl.ac.uk"
   ]
  },
  {
   "cell_type": "markdown",
   "id": "83d07cbe",
   "metadata": {},
   "source": [
    "Once you are logged in, you are on what is called a login node. Login nodes are used to edit scripts and run small tasks that do not require allot of CPU. To run bigger jobs (the reason we use an HPC) you need to be on a larger node - usually termed a compute node. There are different ways to do this and we will do this in the next steps."
   ]
  },
  {
   "cell_type": "markdown",
   "id": "1a5bdcf6",
   "metadata": {},
   "source": [
    "<u>Step3</u> : move to project shared space and view the directory structure. Then move into your dedicated space"
   ]
  },
  {
   "cell_type": "code",
   "execution_count": null,
   "id": "7a68c1de",
   "metadata": {},
   "outputs": [],
   "source": [
    "cd /scratch/prj/docs_microbiome_msc/\n",
    "ls\n",
    "cd k1234567"
   ]
  },
  {
   "cell_type": "markdown",
   "id": "5522fbb8",
   "metadata": {},
   "source": [
    "here you will see several directories for all workshop participants with k-numbers as well as a directory called <b>shared</b> that houses the data that you will need to run metaphlan"
   ]
  },
  {
   "cell_type": "markdown",
   "id": "9eda26c8",
   "metadata": {},
   "source": [
    "### <u> Task 2 : setup a virtual environment for metaphlan </u>\n",
    "\n",
    "https://github.com/biobakery/MetaPhlAn\n",
    "\n",
    "https://github.com/biobakery/MetaPhlAn/wiki/MetaPhlAn-4#installation\n"
   ]
  },
  {
   "cell_type": "markdown",
   "id": "17c679c2",
   "metadata": {},
   "source": [
    "A big advantage of using an HPC is that it usually comes with several modules (or software packages) already installed \n",
    "\n",
    "To view all modules you can run the command"
   ]
  },
  {
   "cell_type": "code",
   "execution_count": null,
   "id": "7c33b1ec",
   "metadata": {},
   "outputs": [],
   "source": [
    "module spider"
   ]
  },
  {
   "cell_type": "markdown",
   "id": "d7330dc6",
   "metadata": {},
   "source": [
    "to load anaconda to your current session run the command below"
   ]
  },
  {
   "cell_type": "code",
   "execution_count": null,
   "id": "c071606b",
   "metadata": {},
   "outputs": [],
   "source": [
    "module load anaconda3"
   ]
  },
  {
   "cell_type": "markdown",
   "id": "ae8a81c6",
   "metadata": {},
   "source": [
    "** remember that you will have to load any module again if you log out and back in to the cluster"
   ]
  },
  {
   "cell_type": "markdown",
   "id": "c2dbbd30",
   "metadata": {},
   "source": [
    "create a conda environment with the name <u>msc</u> (you can name it anything, but remember the name) and install metaphlan in this environment with the same command"
   ]
  },
  {
   "cell_type": "code",
   "execution_count": null,
   "id": "5dfa2733",
   "metadata": {},
   "outputs": [],
   "source": [
    "conda init bash\n",
    "conda create --name msc"
   ]
  },
  {
   "cell_type": "markdown",
   "id": "11437b2b",
   "metadata": {},
   "source": [
    "If asked to proceed type <i>y</i> and hit enter\n",
    "\n",
    "The necessary packages will then be installed in the environment.\n",
    "\n",
    "To enter the environment:"
   ]
  },
  {
   "cell_type": "code",
   "execution_count": null,
   "id": "cb86fb65",
   "metadata": {},
   "outputs": [],
   "source": [
    "conda activate msc\n",
    "pip install metaphlan"
   ]
  },
  {
   "cell_type": "markdown",
   "id": "35ad1297",
   "metadata": {},
   "source": [
    "### <u> Task 3 : Run a single sample </u>\n"
   ]
  },
  {
   "cell_type": "markdown",
   "id": "0427bda6",
   "metadata": {},
   "source": [
    "Create directories (folders) where the input and output of the pipeline will be stored"
   ]
  },
  {
   "cell_type": "code",
   "execution_count": null,
   "id": "51317a23",
   "metadata": {},
   "outputs": [],
   "source": [
    "mkdir input output"
   ]
  },
  {
   "cell_type": "markdown",
   "id": "1bda2698",
   "metadata": {},
   "source": [
    "move into the input directory"
   ]
  },
  {
   "cell_type": "code",
   "execution_count": null,
   "id": "2bc5903d",
   "metadata": {},
   "outputs": [],
   "source": [
    "cd input"
   ]
  },
  {
   "cell_type": "markdown",
   "id": "6ebf74ef",
   "metadata": {},
   "source": [
    "create symbolic links for all raw data files to this (input) directory"
   ]
  },
  {
   "cell_type": "code",
   "execution_count": null,
   "id": "6d5a2227",
   "metadata": {},
   "outputs": [],
   "source": [
    "ln -s /scratch/prj/docs_microbiome_msc/shared/data/*.gz ."
   ]
  },
  {
   "cell_type": "markdown",
   "id": "1f8616a6",
   "metadata": {},
   "source": [
    "even a single metaphlan run requires significant cpu, therefore this should be done either by changing to a compute node, or by submitting a bash script to the scheduler. We will do both these to show the difference.\n",
    "\n",
    "First, login to a compute node using this command"
   ]
  },
  {
   "cell_type": "code",
   "execution_count": null,
   "id": "747cb2e3",
   "metadata": {},
   "outputs": [],
   "source": [
    "srun -p cpu --pty /bin/bash"
   ]
  },
  {
   "cell_type": "markdown",
   "id": "38ad3cdd",
   "metadata": {},
   "source": [
    "run the following command to run a single sample. PLEASE WAIT so that we do this together to ensure that you do this correctly"
   ]
  },
  {
   "cell_type": "code",
   "execution_count": null,
   "id": "d051e9a3",
   "metadata": {},
   "outputs": [],
   "source": [
    "metaphlan input/SRR5275394_1.fastq.gz,input/SRR5275394_2.fastq.gz \n",
    "--bowtie2out output/metagenome.bowtie2.bz2 \n",
    "--input_type fastq \n",
    "-o output/profiled_metagenome.txt \n",
    "--bowtie2db /scratch/prj/docs_microbiome_msc/shared/metaphlan_db/\n",
    "--nproc 10"
   ]
  },
  {
   "cell_type": "markdown",
   "id": "a8dfff46",
   "metadata": {},
   "source": [
    "Once this is completed you can view the output using this command"
   ]
  },
  {
   "cell_type": "code",
   "execution_count": null,
   "id": "efab0214",
   "metadata": {},
   "outputs": [],
   "source": [
    "less profiled_metagenome.txt"
   ]
  }
 ],
 "metadata": {
  "kernelspec": {
   "display_name": "Python 3 (ipykernel)",
   "language": "python",
   "name": "python3"
  },
  "language_info": {
   "codemirror_mode": {
    "name": "ipython",
    "version": 3
   },
   "file_extension": ".py",
   "mimetype": "text/x-python",
   "name": "python",
   "nbconvert_exporter": "python",
   "pygments_lexer": "ipython3",
   "version": "3.10.9"
  }
 },
 "nbformat": 4,
 "nbformat_minor": 5
}
